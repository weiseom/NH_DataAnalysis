{
 "cells": [
  {
   "cell_type": "markdown",
   "metadata": {},
   "source": [
    "# [Workshop] Day1\n",
    "\n",
    "### 배경 지식\n",
    "- 데이터 타입, 조건문\n",
    "\n",
    "아래에 명시된 조건을 따라 함수를 작성하세요."
   ]
  },
  {
   "cell_type": "markdown",
   "metadata": {},
   "source": [
    "### Q1\n",
    "\n",
    "- 아래의 값을 저장하고 있는 myList 변수를 생성하세요.\n",
    "    - [[1,2,3],[4,5,6],[7,8]]\n",
    "\n",
    "\n",
    "- 9를 myList에 추가하여 아래의 값을 저장할 수 있도록 히세요.\n",
    "    - [[1,2,3],[4,5,6],[7,8,9]]\n",
    "    - append, insert 함수를 이용합니다."
   ]
  },
  {
   "cell_type": "code",
   "execution_count": 36,
   "metadata": {},
   "outputs": [
    {
     "data": {
      "text/plain": [
       "[[1, 2, 3], [4, 5, 6], [7, 8, 9]]"
      ]
     },
     "execution_count": 36,
     "metadata": {},
     "output_type": "execute_result"
    }
   ],
   "source": [
    "myList = [[1,2,3],[4,5,6],[7,8]]\n",
    "myList[2].append(9)\n",
    "myList"
   ]
  },
  {
   "cell_type": "markdown",
   "metadata": {},
   "source": [
    "### Q2\n",
    "\n",
    "- 학생들의 이름과 점수를 key와 value로 가지는 score 변수를 생성하세요.\n",
    "    - 하준 90점, 서윤 86점, 지아 80점\n",
    "\n",
    "- score 변수에 수지 95점을 추가하세요.\n",
    "\n",
    "- score 변수에서 지아를 삭제하세요.\n",
    "\n",
    "- score 변수에 기창 98점, 남철 60점, 기성 75점을 **한번에** 추가하세요."
   ]
  },
  {
   "cell_type": "code",
   "execution_count": 37,
   "metadata": {},
   "outputs": [
    {
     "data": {
      "text/plain": [
       "{'하준': 90, '서윤': 86, '수지': 95, '기창': 98, '남철': 60, '기성': 75}"
      ]
     },
     "execution_count": 37,
     "metadata": {},
     "output_type": "execute_result"
    }
   ],
   "source": [
    "score = {'하준' : 90, '서윤' : 86, '지아' : 80}\n",
    "score['수지'] = 95\n",
    "score.pop('지아')\n",
    "score.update({'기창' : 98, '남철' : 60, '기성' : 75})\n",
    "score"
   ]
  },
  {
   "cell_type": "markdown",
   "metadata": {},
   "source": [
    "### Q3\n",
    "- 다음 리스트에서 중복된 항목을 제거하세요\n",
    "```python\n",
    "    numList = [1,3,2,3,7,6,8,4,10,5,3,8,9] ```"
   ]
  },
  {
   "cell_type": "code",
   "execution_count": 38,
   "metadata": {},
   "outputs": [
    {
     "data": {
      "text/plain": [
       "{1, 2, 3, 4, 5, 6, 7, 8, 9, 10}"
      ]
     },
     "execution_count": 38,
     "metadata": {},
     "output_type": "execute_result"
    }
   ],
   "source": [
    "numList = [1,3,2,3,7,6,8,4,10,5,3,8,9]\n",
    "setNumList = set(numList)\n",
    "setNumList"
   ]
  },
  {
   "cell_type": "markdown",
   "metadata": {},
   "source": [
    "### Q4\n",
    "- 다음의 세 문자에서 중복으로 사용된 알파벳만 출력하세요. \n",
    "    - 대소문자를 구분합니다.\n",
    "```python\n",
    "\"Hello python\"\n",
    "\"Funny programming\"\n",
    "\"Happy newyear\"```"
   ]
  },
  {
   "cell_type": "code",
   "execution_count": 41,
   "metadata": {},
   "outputs": [
    {
     "data": {
      "text/plain": [
       "{'n', 'p', 'y'}"
      ]
     },
     "execution_count": 41,
     "metadata": {},
     "output_type": "execute_result"
    }
   ],
   "source": [
    "a = \"Hello python\"\n",
    "b = \"Funny programming\"\n",
    "c = \"Happy newyear\"\n",
    "result = set(a) & set(b) & set(c)\n",
    "result.remove(' ')\n",
    "result"
   ]
  },
  {
   "cell_type": "markdown",
   "metadata": {},
   "source": [
    "### Q5\n",
    "- 다음과 같은 규칙을 가진 숫자의 합을 for문을 사용해서 구현하세요.\n",
    "   - 1 + (1 + 3) + (1 + 3 + 5) + (1 + 3 + 5 + 7) + ... + (1 + 3 + ... + 19)"
   ]
  },
  {
   "cell_type": "code",
   "execution_count": 40,
   "metadata": {},
   "outputs": [
    {
     "name": "stdout",
     "output_type": "stream",
     "text": [
      "385\n"
     ]
    }
   ],
   "source": [
    "a = []\n",
    "sum1 = 0\n",
    "sum2 = 0\n",
    "for i in range(1,20,2):\n",
    "    sum1 += i\n",
    "    sum2 += sum1\n",
    "\n",
    "print(sum2)"
   ]
  }
 ],
 "metadata": {
  "kernelspec": {
   "display_name": "Python 3",
   "language": "python",
   "name": "python3"
  },
  "language_info": {
   "codemirror_mode": {
    "name": "ipython",
    "version": 3
   },
   "file_extension": ".py",
   "mimetype": "text/x-python",
   "name": "python",
   "nbconvert_exporter": "python",
   "pygments_lexer": "ipython3",
   "version": "3.7.4"
  }
 },
 "nbformat": 4,
 "nbformat_minor": 2
}
