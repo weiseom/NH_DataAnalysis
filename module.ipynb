{
 "cells": [
  {
   "cell_type": "code",
   "execution_count": 1,
   "metadata": {},
   "outputs": [
    {
     "name": "stdout",
     "output_type": "stream",
     "text": [
      "hello\n"
     ]
    }
   ],
   "source": [
    "import mymodule"
   ]
  },
  {
   "cell_type": "code",
   "execution_count": 2,
   "metadata": {},
   "outputs": [
    {
     "name": "stdout",
     "output_type": "stream",
     "text": [
      "Writing mymodule2.py\n"
     ]
    }
   ],
   "source": [
    "%%writefile mymodule2.py\n",
    "\n",
    "def my2_function():\n",
    "    print('hello my2_function()')"
   ]
  },
  {
   "cell_type": "code",
   "execution_count": 7,
   "metadata": {},
   "outputs": [
    {
     "name": "stdout",
     "output_type": "stream",
     "text": [
      "hello my2_function()\n",
      "hello my2_function()\n"
     ]
    }
   ],
   "source": [
    "import mymodule2 as m2\n",
    "\n",
    "mymodule2.my2_function()\n",
    "m2.my2_function()"
   ]
  },
  {
   "cell_type": "code",
   "execution_count": 9,
   "metadata": {},
   "outputs": [
    {
     "name": "stdout",
     "output_type": "stream",
     "text": [
      "hello my2_function()\n"
     ]
    }
   ],
   "source": [
    "from mymodule2 import my2_function\n",
    "\n",
    "def my2_function():\n",
    "    print(\"hello my own function\")\n",
    "\n",
    "my2_function()"
   ]
  },
  {
   "cell_type": "code",
   "execution_count": 11,
   "metadata": {},
   "outputs": [
    {
     "name": "stdout",
     "output_type": "stream",
     "text": [
      "this is my function.\n",
      "hello my2_function()\n"
     ]
    }
   ],
   "source": [
    "import random, mymodule, mymodule2\n",
    "random.random()\n",
    "mymodule.my_function()\n",
    "mymodule2.my2_function()"
   ]
  },
  {
   "cell_type": "code",
   "execution_count": 13,
   "metadata": {},
   "outputs": [
    {
     "data": {
      "text/plain": [
       "<module 'mymodule' from 'C:\\\\py_workspace\\\\mymodule.py'>"
      ]
     },
     "execution_count": 13,
     "metadata": {},
     "output_type": "execute_result"
    }
   ],
   "source": [
    "mymodule"
   ]
  },
  {
   "cell_type": "code",
   "execution_count": 14,
   "metadata": {},
   "outputs": [
    {
     "data": {
      "text/plain": [
       "<module 'random' from 'C:\\\\Anaconda\\\\lib\\\\random.py'>"
      ]
     },
     "execution_count": 14,
     "metadata": {},
     "output_type": "execute_result"
    }
   ],
   "source": [
    "random"
   ]
  },
  {
   "cell_type": "code",
   "execution_count": 15,
   "metadata": {},
   "outputs": [
    {
     "data": {
      "text/plain": [
       "['C:\\\\py_workspace',\n",
       " 'C:\\\\Anaconda\\\\python37.zip',\n",
       " 'C:\\\\Anaconda\\\\DLLs',\n",
       " 'C:\\\\Anaconda\\\\lib',\n",
       " 'C:\\\\Anaconda',\n",
       " '',\n",
       " 'C:\\\\Anaconda\\\\lib\\\\site-packages',\n",
       " 'C:\\\\Anaconda\\\\lib\\\\site-packages\\\\win32',\n",
       " 'C:\\\\Anaconda\\\\lib\\\\site-packages\\\\win32\\\\lib',\n",
       " 'C:\\\\Anaconda\\\\lib\\\\site-packages\\\\Pythonwin',\n",
       " 'C:\\\\Anaconda\\\\lib\\\\site-packages\\\\IPython\\\\extensions',\n",
       " 'C:\\\\Users\\\\user\\\\.ipython']"
      ]
     },
     "execution_count": 15,
     "metadata": {},
     "output_type": "execute_result"
    }
   ],
   "source": [
    "import sys\n",
    "sys.path"
   ]
  },
  {
   "cell_type": "code",
   "execution_count": 16,
   "metadata": {},
   "outputs": [
    {
     "name": "stdout",
     "output_type": "stream",
     "text": [
      "Writing ./mypack/module3.py\n"
     ]
    }
   ],
   "source": [
    "%%writefile ./mypack/module3.py\n",
    "\n",
    "def f3():\n",
    "    print(\"mypack.module2.f3()\")"
   ]
  },
  {
   "cell_type": "code",
   "execution_count": 20,
   "metadata": {},
   "outputs": [
    {
     "name": "stdout",
     "output_type": "stream",
     "text": [
      "mypack.module2.f3()\n",
      "mypack.module2.f3()\n",
      "mypack.module2.f3()\n",
      "mypack.module2.f3()\n"
     ]
    }
   ],
   "source": [
    "import mypack.module3\n",
    "from mypack import module3\n",
    "from mypack import module3 as m3\n",
    "from mypack.module3 import f3\n",
    "\n",
    "mypack.module3.f3()\n",
    "module3.f3()\n",
    "m3.f3()\n",
    "f3()"
   ]
  },
  {
   "cell_type": "code",
   "execution_count": 1,
   "metadata": {},
   "outputs": [
    {
     "name": "stdout",
     "output_type": "stream",
     "text": [
      "__main__\n"
     ]
    }
   ],
   "source": [
    "print(__name__)"
   ]
  },
  {
   "cell_type": "code",
   "execution_count": 2,
   "metadata": {},
   "outputs": [
    {
     "name": "stdout",
     "output_type": "stream",
     "text": [
      "hello\n",
      "mymodule\n"
     ]
    }
   ],
   "source": [
    "import mymodule"
   ]
  },
  {
   "cell_type": "code",
   "execution_count": 5,
   "metadata": {},
   "outputs": [
    {
     "data": {
      "text/plain": [
       "2"
      ]
     },
     "execution_count": 5,
     "metadata": {},
     "output_type": "execute_result"
    }
   ],
   "source": [
    "from mypack import my_calc\n",
    "my_calc.minus(4,2)"
   ]
  },
  {
   "cell_type": "code",
   "execution_count": 1,
   "metadata": {},
   "outputs": [
    {
     "name": "stdout",
     "output_type": "stream",
     "text": [
      "Writing my_calc.py\n"
     ]
    }
   ],
   "source": [
    "%%writefile my_calc.py\n",
    "\n",
    "def plus(a,b):\n",
    "    return a + b\n",
    "\n",
    "def minus(a,b):\n",
    "    return a - b\n",
    "\n",
    "def multiply(a,b):\n",
    "    return a * b\n",
    "\n",
    "def divide(a,b):\n",
    "    return a / b\n"
   ]
  },
  {
   "cell_type": "code",
   "execution_count": 2,
   "metadata": {},
   "outputs": [
    {
     "name": "stdout",
     "output_type": "stream",
     "text": [
      "5 2 6 2.0\n"
     ]
    }
   ],
   "source": [
    "import my_calc as calc\n",
    "\n",
    "r1 = calc.plus(2,3)\n",
    "r2 = calc.minus(5,3)\n",
    "r3 = calc.multiply(2,3)\n",
    "r4 = calc.divide(4,2)\n",
    "print(r1,r2,r3,r4)\n"
   ]
  },
  {
   "cell_type": "code",
   "execution_count": 1,
   "metadata": {},
   "outputs": [],
   "source": [
    "import turtle\n",
    "t1 = turtle.Turtle()\n",
    "t2 = turtle.Turtle()\n",
    "t3 = turtle.Turtle()\n",
    "t4 = turtle.Turtle()\n",
    "t1.forward(100)\n",
    "t2.forward(200)\n",
    "t3.forward(300)"
   ]
  },
  {
   "cell_type": "code",
   "execution_count": 2,
   "metadata": {},
   "outputs": [],
   "source": [
    "t1.shape('turtle')\n",
    "t2.shape('turtle')\n",
    "t3.shape('turtle')\n",
    "t4.shape('turtle')"
   ]
  },
  {
   "cell_type": "code",
   "execution_count": 3,
   "metadata": {},
   "outputs": [],
   "source": [
    "t1.color('red')\n",
    "t2.color('blue')\n",
    "t3.color('green')\n",
    "t4.color('yellow')"
   ]
  },
  {
   "cell_type": "code",
   "execution_count": 4,
   "metadata": {},
   "outputs": [],
   "source": [
    "t1.left(90)\n",
    "t2.left(90)"
   ]
  },
  {
   "cell_type": "code",
   "execution_count": 5,
   "metadata": {},
   "outputs": [
    {
     "name": "stdout",
     "output_type": "stream",
     "text": [
      "당신의 나이를 입력하세요.ㅇ\n",
      "숫자로 입력을 똑바로 못하냐?\n"
     ]
    }
   ],
   "source": [
    "age = input(\"당신의 나이를 입력하세요.\")\n",
    "\n",
    "try:\n",
    "    100 - int(age)\n",
    "except ValueError:\n",
    "    print(\"숫자로 입력을 똑바로 못하냐?\")\n",
    "finally:\n",
    "    print(\"사용해주셔서 감사합니다.\")"
   ]
  },
  {
   "cell_type": "code",
   "execution_count": 6,
   "metadata": {},
   "outputs": [
    {
     "data": {
      "text/plain": [
       "'나는 27살이고 이름은 홍길동입니다.'"
      ]
     },
     "execution_count": 6,
     "metadata": {},
     "output_type": "execute_result"
    }
   ],
   "source": [
    "\"나는 %d살이고 이름은 %s입니다.\" % (27, \"홍길동\")"
   ]
  },
  {
   "cell_type": "code",
   "execution_count": 7,
   "metadata": {},
   "outputs": [],
   "source": [
    "s = \"나는 {}살이고 이름은 {}입니다.\""
   ]
  },
  {
   "cell_type": "code",
   "execution_count": 8,
   "metadata": {},
   "outputs": [
    {
     "data": {
      "text/plain": [
       "'나는 27살이고 이름은 홍길동입니다.'"
      ]
     },
     "execution_count": 8,
     "metadata": {},
     "output_type": "execute_result"
    }
   ],
   "source": [
    "s.format(27, \"홍길동\")"
   ]
  },
  {
   "cell_type": "code",
   "execution_count": 9,
   "metadata": {},
   "outputs": [
    {
     "data": {
      "text/plain": [
       "'나는 27살이고 이름은 홍길동입니다.'"
      ]
     },
     "execution_count": 9,
     "metadata": {},
     "output_type": "execute_result"
    }
   ],
   "source": [
    "age = 27\n",
    "name = \"홍길동\"\n",
    "\n",
    "f\"나는 {age}살이고 이름은 {name}입니다.\""
   ]
  },
  {
   "cell_type": "code",
   "execution_count": null,
   "metadata": {},
   "outputs": [],
   "source": []
  }
 ],
 "metadata": {
  "kernelspec": {
   "display_name": "Python 3",
   "language": "python",
   "name": "python3"
  },
  "language_info": {
   "codemirror_mode": {
    "name": "ipython",
    "version": 3
   },
   "file_extension": ".py",
   "mimetype": "text/x-python",
   "name": "python",
   "nbconvert_exporter": "python",
   "pygments_lexer": "ipython3",
   "version": "3.7.4"
  }
 },
 "nbformat": 4,
 "nbformat_minor": 2
}
